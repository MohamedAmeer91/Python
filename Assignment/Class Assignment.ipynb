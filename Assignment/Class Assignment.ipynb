{
 "cells": [
  {
   "cell_type": "code",
   "execution_count": 2,
   "metadata": {},
   "outputs": [],
   "source": [
    "# Create a class and function, and list out the items in the list\n",
    "class SubfieldsInAI():\n",
    "\n",
    "    def Subfields():\n",
    "        print(\"Sub-fields in AI are:\")\n",
    "        List=['Machine Learning', 'Neural Networks', 'Vision', 'Robotics', 'Speech Processing', 'Natural Language Processing']\n",
    "        for temp in List:\n",
    "            print(temp)"
   ]
  },
  {
   "cell_type": "code",
   "execution_count": 3,
   "metadata": {},
   "outputs": [
    {
     "name": "stdout",
     "output_type": "stream",
     "text": [
      "Sub-fields in AI are:\n",
      "Machine Learning\n",
      "Neural Networks\n",
      "Vision\n",
      "Robotics\n",
      "Speech Processing\n",
      "Natural Language Processing\n"
     ]
    }
   ],
   "source": [
    "SubfieldsInAI.Subfields()"
   ]
  },
  {
   "cell_type": "code",
   "execution_count": 4,
   "metadata": {},
   "outputs": [],
   "source": [
    "# Create a function that checks whether the given number is Odd or Even\n",
    "class OddEven():\n",
    "\n",
    "    def OddEven():\n",
    "        number=int(input(\"Enter a number:\"))\n",
    "        print(\"Enter a number:\", number)\n",
    "        if number%2 == 0:\n",
    "            print(number,\" is Even number\")\n",
    "        else:\n",
    "            print(number,\" is Odd number\")"
   ]
  },
  {
   "cell_type": "code",
   "execution_count": 5,
   "metadata": {},
   "outputs": [
    {
     "name": "stdout",
     "output_type": "stream",
     "text": [
      "Enter a number: 52452\n",
      "52452  is Even number\n"
     ]
    }
   ],
   "source": [
    "OddEven.OddEven()"
   ]
  },
  {
   "cell_type": "code",
   "execution_count": 6,
   "metadata": {},
   "outputs": [],
   "source": [
    "# Create a function that tells elegibility of marriage for male and female according to their age limit like 21 for male and 18 for female\n",
    "\n",
    "class ElegiblityForMarriage():\n",
    "\n",
    "    def Elegible():\n",
    "        gender = input(\"Your Gender:\")\n",
    "        age= int(input(\"Your Age:\"))\n",
    "        print(\"Your Gender:\", gender)\n",
    "        print(\"Your Age:\", age)\n",
    "        if gender.upper() == \"MALE\":\n",
    "            if age<18:\n",
    "                print(\"NOT ELIGIBLE\")\n",
    "            else:\n",
    "                print(\"ELIGIBLE\")\n",
    "        elif gender.upper() == \"FEMALE\":\n",
    "            if age<18:\n",
    "                print(\"NOT ELIGIBLE\")\n",
    "            else:\n",
    "                print(\"ELIGIBLE\")\n",
    "        else:\n",
    "            print(\"Enter correct gender\")"
   ]
  },
  {
   "cell_type": "code",
   "execution_count": 7,
   "metadata": {},
   "outputs": [
    {
     "name": "stdout",
     "output_type": "stream",
     "text": [
      "Your Gender: Male\n",
      "Your Age: 20\n",
      "ELIGIBLE\n"
     ]
    }
   ],
   "source": [
    "ElegiblityForMarriage.Elegible()"
   ]
  },
  {
   "cell_type": "code",
   "execution_count": 1,
   "metadata": {},
   "outputs": [],
   "source": [
    "class FindPercent():\n",
    "\n",
    "    def getInput(subject):\n",
    "        mark = int(input(\"\"+subject+\"=\"))\n",
    "        print(subject,\"= \",mark)\n",
    "        return mark\n",
    "\n",
    "    def calculate_Total(s1,s2,s3,s4,s5):\n",
    "        return s1+s2+s3+s4+s5\n",
    "\n",
    "    def percentage():\n",
    "        subject1 = FindPercent.getInput(\"Subject1\")\n",
    "        subject2 = FindPercent.getInput(\"Subject2\")\n",
    "        subject3 = FindPercent.getInput(\"Subject3\")\n",
    "        subject4 = FindPercent.getInput(\"Subject4\")\n",
    "        subject5 = FindPercent.getInput(\"Subject5\")\n",
    "\n",
    "        total = FindPercent.calculate_Total(subject1,subject2,subject3,subject4,subject5 )\n",
    "        print(\"Total :\",total)\n",
    "        percentage = (total/500)*100\n",
    "        print(\"Percentage :\",percentage)\n"
   ]
  },
  {
   "cell_type": "code",
   "execution_count": 2,
   "metadata": {},
   "outputs": [
    {
     "name": "stdout",
     "output_type": "stream",
     "text": [
      "Subject1 =  98\n",
      "Subject2 =  87\n",
      "Subject3 =  95\n",
      "Subject4 =  95\n",
      "Subject5 =  93\n",
      "Total : 468\n",
      "Percentage : 93.60000000000001\n"
     ]
    }
   ],
   "source": [
    "FindPercent.percentage()"
   ]
  },
  {
   "cell_type": "code",
   "execution_count": 3,
   "metadata": {},
   "outputs": [],
   "source": [
    "class triangle():\n",
    "    def areaofTriangle():\n",
    "        height = int(input(\"Height:\"))\n",
    "        breadth = int(input(\"Breadth:\"))\n",
    "        print(\"Area Formula: (Height*Breadth)/2\")\n",
    "        area = (height*breadth)/2\n",
    "        print(\"Area of Triangle:\",area)\n",
    "\n",
    "    def perimeterOfTriangle():\n",
    "        height1 = int(input(\"Height1:\"))\n",
    "        height2 = int(input(\"Height2:\"))\n",
    "        breadth = int(input(\"Breadth:\"))\n",
    "        print(\"Perimeter formula: Height1+Height2+Breadth\")\n",
    "        Perimeter= height1+height2+breadth\n",
    "        print(\"Perimeter of Triangle:\", Perimeter)\n",
    "\n",
    "    def triangle():\n",
    "        triangle.areaofTriangle()\n",
    "        triangle.perimeterOfTriangle()"
   ]
  },
  {
   "cell_type": "code",
   "execution_count": 4,
   "metadata": {},
   "outputs": [
    {
     "name": "stdout",
     "output_type": "stream",
     "text": [
      "Area Formula: (Height*Breadth)/2\n",
      "Area of Triangle: 544.0\n",
      "Perimeter formula: Height1+Height2+Breadth\n",
      "Perimeter of Triangle: 10\n"
     ]
    }
   ],
   "source": [
    "triangle.triangle()"
   ]
  }
 ],
 "metadata": {
  "kernelspec": {
   "display_name": "Python 3",
   "language": "python",
   "name": "python3"
  },
  "language_info": {
   "codemirror_mode": {
    "name": "ipython",
    "version": 3
   },
   "file_extension": ".py",
   "mimetype": "text/x-python",
   "name": "python",
   "nbconvert_exporter": "python",
   "pygments_lexer": "ipython3",
   "version": "3.9.9"
  },
  "orig_nbformat": 4
 },
 "nbformat": 4,
 "nbformat_minor": 2
}
