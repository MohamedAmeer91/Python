{
 "cells": [
  {
   "cell_type": "code",
   "execution_count": 1,
   "metadata": {},
   "outputs": [],
   "source": [
    "# Create Function\n",
    "def Subfields():\n",
    "    subfield_list=[\"Machine Learning\",\"Neural Networks\", \"Vision\", \"Robotics\", \"Speech Processing\", \"Natural Language Processing\"]\n",
    "    print(\"Sub-fields in AI are:\")\n",
    "    for sub_field in subfield_list:\n",
    "        print(sub_field)"
   ]
  },
  {
   "cell_type": "code",
   "execution_count": 2,
   "metadata": {},
   "outputs": [
    {
     "name": "stdout",
     "output_type": "stream",
     "text": [
      "Sub-fields in AI are:\n",
      "Machine Learning\n",
      "Neural Networks\n",
      "Vision\n",
      "Robotics\n",
      "Speech Processing\n",
      "Natural Language Processing\n"
     ]
    }
   ],
   "source": [
    "Subfields()"
   ]
  },
  {
   "cell_type": "code",
   "execution_count": 3,
   "metadata": {},
   "outputs": [],
   "source": [
    "# Create Function\n",
    "def OddEven():\n",
    "    number=int(input(\"Enter a number:\"))\n",
    "    print(\"Enter a number:\", number)\n",
    "    if number%2 == 0:\n",
    "        print(number,\" is Even number\")\n",
    "    else:\n",
    "        print(number,\" is Odd number\")"
   ]
  },
  {
   "cell_type": "code",
   "execution_count": 4,
   "metadata": {},
   "outputs": [
    {
     "name": "stdout",
     "output_type": "stream",
     "text": [
      "Enter a number: 4\n",
      "4  is Even number\n"
     ]
    }
   ],
   "source": [
    "OddEven()"
   ]
  },
  {
   "cell_type": "code",
   "execution_count": 12,
   "metadata": {},
   "outputs": [],
   "source": [
    "# Create Function\n",
    "def Elegible():\n",
    "    gender = input(\"Your Gender:\")\n",
    "    age= int(input(\"Your Age:\"))\n",
    "    print(\"Your Gender:\", gender)\n",
    "    print(\"Your Age:\", age)\n",
    "    if gender.upper() == \"MALE\":\n",
    "        if age<18:\n",
    "            print(\"NOT ELIGIBLE\")\n",
    "        else:\n",
    "            print(\"ELIGIBLE\")\n",
    "    elif gender.upper() == \"FEMALE\":\n",
    "        if age<18:\n",
    "            print(\"NOT ELIGIBLE\")\n",
    "        else:\n",
    "            print(\"ELIGIBLE\")\n",
    "    else:\n",
    "        print(\"Enter correct gender\")"
   ]
  },
  {
   "cell_type": "code",
   "execution_count": 14,
   "metadata": {},
   "outputs": [
    {
     "name": "stdout",
     "output_type": "stream",
     "text": [
      "Your Gender: Male\n",
      "Your Age: 18\n",
      "ELIGIBLE\n"
     ]
    }
   ],
   "source": [
    "Elegible()"
   ]
  },
  {
   "cell_type": "code",
   "execution_count": 19,
   "metadata": {},
   "outputs": [],
   "source": [
    "# Create Function\n",
    "def getInput(subject):\n",
    "    mark = int(input(\"\"+subject+\"=\"))\n",
    "    print(subject,\"= \",mark)\n",
    "    return mark\n",
    "\n",
    "def calculate_Total(s1,s2,s3,s4,s5):\n",
    "    return s1+s2+s3+s4+s5\n",
    "\n",
    "\n",
    "def percentage():\n",
    "    subject1 = getInput(\"Subject1\")\n",
    "    subject2 = getInput(\"Subject2\")\n",
    "    subject3 = getInput(\"Subject3\")\n",
    "    subject4 = getInput(\"Subject4\")\n",
    "    subject5 = getInput(\"Subject5\")\n",
    "\n",
    "    total = calculate_Total(subject1,subject2,subject3,subject4,subject5 )\n",
    "    print(\"Total :\",total)\n",
    "    percentage = (total/500)*100\n",
    "    print(\"Percentage :\",percentage)\n",
    "\n"
   ]
  },
  {
   "cell_type": "code",
   "execution_count": 20,
   "metadata": {},
   "outputs": [
    {
     "name": "stdout",
     "output_type": "stream",
     "text": [
      "Subject1 =  23\n",
      "Subject2 =  45\n",
      "Subject3 =  34\n",
      "Subject4 =  23\n",
      "Subject5 =  23\n",
      "Total : 148\n",
      "Percentage : 29.599999999999998\n"
     ]
    }
   ],
   "source": [
    "percentage()"
   ]
  },
  {
   "cell_type": "code",
   "execution_count": 21,
   "metadata": {},
   "outputs": [],
   "source": [
    "# Create Function\n",
    "def areaofTriangle():\n",
    "    height = int(input(\"Height:\"))\n",
    "    breadth = int(input(\"Breadth:\"))\n",
    "    print(\"Area Formula: (Height*Breadth)/2\")\n",
    "    area = (height*breadth)/2\n",
    "    print(\"Area of Triangle:\",area)\n",
    "\n",
    "def perimeterOfTriangle():\n",
    "    height1 = int(input(\"Height1:\"))\n",
    "    height2 = int(input(\"Height2:\"))\n",
    "    breadth = int(input(\"Breadth:\"))\n",
    "    print(\"Perimeter formula: Height1+Height2+Breadth\")\n",
    "    Perimeter= height1+height2+breadth\n",
    "    print(\"Perimeter of Triangle:\", Perimeter)\n",
    "\n",
    "def triangle():\n",
    "    areaofTriangle()\n",
    "    perimeterOfTriangle()"
   ]
  },
  {
   "cell_type": "code",
   "execution_count": 11,
   "metadata": {},
   "outputs": [
    {
     "name": "stdout",
     "output_type": "stream",
     "text": [
      "Height:3\n",
      "Breadth:4\n",
      "Area formula: (Height*Breadth)/2\n",
      "Area of Triangle:  6.0\n",
      "Height1:3\n",
      "Height2:4\n",
      "Breadth:45\n",
      "Perimeter formula: Height1+Height2+Breadth\n",
      "Perimeter of Triangle:  52\n"
     ]
    }
   ],
   "source": [
    "triangle()"
   ]
  },
  {
   "cell_type": "code",
   "execution_count": null,
   "metadata": {},
   "outputs": [],
   "source": []
  }
 ],
 "metadata": {
  "kernelspec": {
   "display_name": "Python 3",
   "language": "python",
   "name": "python3"
  },
  "language_info": {
   "codemirror_mode": {
    "name": "ipython",
    "version": 3
   },
   "file_extension": ".py",
   "mimetype": "text/x-python",
   "name": "python",
   "nbconvert_exporter": "python",
   "pygments_lexer": "ipython3",
   "version": "3.9.9"
  }
 },
 "nbformat": 4,
 "nbformat_minor": 2
}
